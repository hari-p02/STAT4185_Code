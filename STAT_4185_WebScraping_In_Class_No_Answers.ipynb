{
  "cells": [
    {
      "cell_type": "markdown",
      "metadata": {
        "id": "yfFpLw4YLyg2"
      },
      "source": [
        "## Introduction\n",
        "\n",
        "During this class section we will be make a dataset (suprise suprise) by folowing this notebook. We will scrape data off of [https://money.com/best-colleges/](https://money.com/best-colleges/). Money is an independent, advertiser-supported website and their editors \"research hundreds of sources and contact hundreds of the most respected experts in each industry to get the most relevant information to help others make the right purchasing decision.\" The data consists of various/useful metrics of the the best colleges in America ranked by value (as determined by the website).\n",
        "\n",
        "We will follow the steps of the web scraping \"pipeline\" in this notebook.\n",
        "\n",
        "Features of the dataset - Demo\n",
        "\n",
        "First lets explore the website"
      ]
    },
    {
      "cell_type": "markdown",
      "metadata": {
        "id": "ebuJ1B1gNCA0"
      },
      "source": [
        "# Import Packages"
      ]
    },
    {
      "cell_type": "code",
      "execution_count": 17,
      "metadata": {
        "id": "X81PeRmbLRUh"
      },
      "outputs": [],
      "source": [
        "import requests\n",
        "from bs4 import BeautifulSoup as bs\n",
        "import pandas as pd\n",
        "import numpy as np"
      ]
    },
    {
      "cell_type": "markdown",
      "metadata": {
        "id": "2wFLse5XvJR3"
      },
      "source": [
        "Make an GET request to get all the html from this webpage, print out the status code and the server that is giving you the html"
      ]
    },
    {
      "cell_type": "code",
      "execution_count": 24,
      "metadata": {
        "colab": {
          "base_uri": "https://localhost:8080/"
        },
        "id": "4CFIZxdTvJR4",
        "outputId": "3dca0b5d-1163-4dc0-db65-d8eb9714a4ac"
      },
      "outputs": [
        {
          "output_type": "stream",
          "name": "stdout",
          "text": [
            "200\n"
          ]
        }
      ],
      "source": [
        "url = \"https://money.com/best-colleges/\"\n",
        "req = requests.get(url)\n",
        "print(req.status_code)"
      ]
    },
    {
      "cell_type": "code",
      "execution_count": 25,
      "metadata": {
        "colab": {
          "base_uri": "https://localhost:8080/",
          "height": 35
        },
        "id": "5l2fYX_5vJR5",
        "outputId": "2119c723-c7eb-476b-8175-79ea1f6e3ba2"
      },
      "outputs": [
        {
          "output_type": "execute_result",
          "data": {
            "text/plain": [
              "'cloudflare'"
            ],
            "application/vnd.google.colaboratory.intrinsic+json": {
              "type": "string"
            }
          },
          "metadata": {},
          "execution_count": 25
        }
      ],
      "source": [
        "req.headers['Server']"
      ]
    },
    {
      "cell_type": "markdown",
      "metadata": {
        "id": "eOGMIstOvJR6"
      },
      "source": [
        "Pass in the html document into a beautiful soup object"
      ]
    },
    {
      "cell_type": "code",
      "execution_count": 26,
      "metadata": {
        "id": "VQ8TFIU4Njkd"
      },
      "outputs": [],
      "source": [
        "soup = bs(req.content, \"html.parser\")\n",
        "# req.content"
      ]
    },
    {
      "cell_type": "markdown",
      "metadata": {
        "id": "-ur7z0BQvJR8"
      },
      "source": [
        "Run this code cell to define this simple function. What is this function doing? What are we going to use it? What type of object does `element` have to be?"
      ]
    },
    {
      "cell_type": "code",
      "execution_count": 27,
      "metadata": {
        "id": "RTVfIls61KAo"
      },
      "outputs": [],
      "source": [
        "def func(element):\n",
        "  return element.string"
      ]
    },
    {
      "cell_type": "markdown",
      "metadata": {
        "id": "Xyzvl3WavJR9"
      },
      "source": [
        "Use the above function and find the proper CSS Selectors to get the respective data, I will demo the first one. Note that getting CSS selectors can be tricky. I usually like to do a combo of the SelectorGadget extension and the Inspect Element tool to determine proper selectors."
      ]
    },
    {
      "cell_type": "code",
      "execution_count": 6,
      "metadata": {
        "id": "yQPT0ZJ9vJR-"
      },
      "outputs": [],
      "source": [
        "college_names = list(map(func, soup.select(\"hgroup h2\")))[0:-1]"
      ]
    },
    {
      "cell_type": "code",
      "source": [
        "college_location = list(map(func, soup.select('hgroup h3')))[:-1]\n",
        "acceptance_rate = list(map(func, soup.select('.item-row .col-3')))\n",
        "Est_full_price_23_24 = list(map(func, soup.select('.item-row .col-4')))\n",
        "Est_price_with_avg_grant = list(map(func, soup.select('.item-row .col-5')))\n",
        "graduation_rate = list(map(func, soup.select('.item-row .col-6')))"
      ],
      "metadata": {
        "id": "lwYogfdA0UlP"
      },
      "execution_count": 7,
      "outputs": []
    },
    {
      "cell_type": "markdown",
      "metadata": {
        "id": "fhvaLIfHvJR-"
      },
      "source": [
        "Now that we have all the data from the table stored into their respective lists, we can move onto getting data specific to the college by \"clicking\" on the link in the table. How do be \"click\" links on a webpage with `requests` and `BeautifulSoup`?"
      ]
    },
    {
      "cell_type": "code",
      "execution_count": 8,
      "metadata": {
        "id": "7Fph-bTsOJoJ",
        "colab": {
          "base_uri": "https://localhost:8080/"
        },
        "outputId": "e66c0d42-b99a-4aa4-d563-d7ed569fb006"
      },
      "outputs": [
        {
          "output_type": "stream",
          "name": "stdout",
          "text": [
            "https://money.com//best-colleges/profile/adelphi-university/\n"
          ]
        }
      ],
      "source": [
        "college_links = soup.select('.mask-link')\n",
        "new_url = \"https://money.com/\" + college_links[0]['href']\n",
        "adelphi_university = requests.get(new_url)\n",
        "print(new_url)"
      ]
    },
    {
      "cell_type": "code",
      "source": [
        "adelphi_soup = bs(adelphi_university.content, \"html.parser\")"
      ],
      "metadata": {
        "id": "SEKWmg810OEb"
      },
      "execution_count": 9,
      "outputs": []
    },
    {
      "cell_type": "markdown",
      "metadata": {
        "id": "Kc26hFvBvJR-"
      },
      "source": [
        "Below I initialized a bunch of lists that will store data specific to a college."
      ]
    },
    {
      "cell_type": "code",
      "source": [
        "metrics = list(map(func, adelphi_soup.select(\"dd\")))\n",
        "metrics"
      ],
      "metadata": {
        "colab": {
          "base_uri": "https://localhost:8080/"
        },
        "id": "TRJi-iKO28nW",
        "outputId": "25733e1b-de3c-46ac-b275-680370dbf792"
      },
      "execution_count": 10,
      "outputs": [
        {
          "output_type": "execute_result",
          "data": {
            "text/plain": [
              "['$67,400',\n",
              " '90%',\n",
              " '$30,300',\n",
              " '$24,800',\n",
              " '77%',\n",
              " '3.69',\n",
              " '1200/26',\n",
              " 'No',\n",
              " '5,170',\n",
              " '98%',\n",
              " '62%',\n",
              " '22%',\n",
              " '$20,530',\n",
              " '74%',\n",
              " '4.2 years',\n",
              " '$25,000',\n",
              " '$70,100',\n",
              " '80%']"
            ]
          },
          "metadata": {},
          "execution_count": 10
        }
      ]
    },
    {
      "cell_type": "code",
      "execution_count": 11,
      "metadata": {
        "id": "r0s15oAtvfoI"
      },
      "outputs": [],
      "source": [
        "avg_price_for_low_income_students = metrics[3]\n",
        "median_sat_act_score = metrics[6]\n",
        "sat_act_required = metrics[7]\n",
        "undergrad_enrollment = metrics[8]\n",
        "percent_of_students_with_need_who_get_grants = metrics[9]\n",
        "percent_of_need_met = metrics[10]\n",
        "percent_of_students_who_get_merit_grants = metrics[11]\n",
        "avg_merit_grant = metrics[12]\n",
        "avg_time_to_a_degree = metrics[14]\n",
        "median_student_debt = metrics[15]\n",
        "percent_earning_more_than_a_high_school_grad = metrics[17]\n",
        "early_career_earnings = metrics[16]"
      ]
    },
    {
      "cell_type": "markdown",
      "metadata": {
        "id": "LZbzLmLRvJR_"
      },
      "source": [
        "\"Click\" on each link and extract the proper data (make sure to find and use the right CSS Selectors) and then add them to the list."
      ]
    },
    {
      "cell_type": "code",
      "execution_count": 12,
      "metadata": {
        "id": "jtichZE3s8bm"
      },
      "outputs": [],
      "source": [
        "avg_price_for_low_income_students = []\n",
        "median_sat_act_score = []\n",
        "sat_act_required = []\n",
        "undergrad_enrollment = []\n",
        "percent_of_students_with_need_who_get_grants = []\n",
        "percent_of_need_met = []\n",
        "percent_of_students_who_get_merit_grants = []\n",
        "avg_merit_grant = []\n",
        "avg_time_to_a_degree = []\n",
        "median_student_debt = []\n",
        "percent_earning_more_than_a_high_school_grad = []\n",
        "early_career_earnings = []\n",
        "\n",
        "for link in college_links:\n",
        "  new_url = \"https://money.com/\" + link['href']\n",
        "  university = requests.get(new_url)\n",
        "  university_soup = bs(university.content, \"html.parser\")\n",
        "  metrics = list(map(func, university_soup.select(\"dd\")))\n",
        "  avg_price_for_low_income_students.append(metrics[3])\n",
        "  median_sat_act_score.append(metrics[6])\n",
        "  sat_act_required.append(metrics[7])\n",
        "  undergrad_enrollment.append(metrics[8])\n",
        "  percent_of_students_with_need_who_get_grants.append(metrics[9])\n",
        "  percent_of_need_met.append(metrics[10])\n",
        "  percent_of_students_who_get_merit_grants.append(metrics[11])\n",
        "  avg_merit_grant.append(metrics[12])\n",
        "  avg_time_to_a_degree.append(metrics[14])\n",
        "  median_student_debt.append(metrics[15])\n",
        "  percent_earning_more_than_a_high_school_grad.append(metrics[17])\n",
        "  early_career_earnings.append(metrics[16])"
      ]
    },
    {
      "cell_type": "markdown",
      "metadata": {
        "id": "iQjJCKz1vJR_"
      },
      "source": [
        "The focus on the next few week's material is on the `numpy` and `pandas` package which is what we will use to store the data we extract from a webpage. I have made the code to package all the data into a dataset and save it as a `.csv` file. You will understand how I am doing this after going through this week's material."
      ]
    },
    {
      "cell_type": "code",
      "execution_count": 13,
      "metadata": {
        "id": "CqUTenVuzqtH"
      },
      "outputs": [],
      "source": [
        "data = {\n",
        "    \"college_names\": college_names,\n",
        "    \"college_location\": college_location,\n",
        "    \"acceptance_rate\" : acceptance_rate,\n",
        "    \"Est_full_price_22_23\": Est_full_price_23_24,\n",
        "    \"Est_price_with_avg_grant\": Est_price_with_avg_grant,\n",
        "    \"graduation_rate\": graduation_rate,\n",
        "    \"early_career_earnings\": early_career_earnings,\n",
        "    \"avg_price_for_low_income_students\": avg_price_for_low_income_students,\n",
        "    \"median_sat_act_score\" : median_sat_act_score,\n",
        "    \"sat_act_required\" : sat_act_required,\n",
        "    \"undergrad_enrollment\": undergrad_enrollment,\n",
        "    \"percent_of_students_with_need_who_get_grants\" : percent_of_students_with_need_who_get_grants,\n",
        "    \"percent_of_need_met\" : percent_of_need_met,\n",
        "    \"percent_of_students_who_get_merit_grants\" : percent_of_students_who_get_merit_grants,\n",
        "    \"avg_merit_grant\" : avg_merit_grant,\n",
        "    \"avg_time_to_a_degree\" : avg_time_to_a_degree,\n",
        "    \"median_student_debt\" : median_student_debt,\n",
        "    \"percent_earning_more_than_a_high_school_grad\" : percent_earning_more_than_a_high_school_grad\n",
        "\n",
        "}"
      ]
    },
    {
      "cell_type": "code",
      "execution_count": 14,
      "metadata": {
        "id": "PUzeTyL40jnK"
      },
      "outputs": [],
      "source": [
        "college_df = pd.DataFrame(data=data)"
      ]
    },
    {
      "cell_type": "code",
      "execution_count": 15,
      "metadata": {
        "colab": {
          "base_uri": "https://localhost:8080/",
          "height": 313
        },
        "id": "fDws5BrX0py1",
        "outputId": "68ed6af4-d653-4158-9969-b9db5a0eee88"
      },
      "outputs": [
        {
          "output_type": "execute_result",
          "data": {
            "text/plain": [
              "             college_names  college_location  \\\n",
              "0       Adelphi University   Garden City, NY   \n",
              "1      Agnes Scott College       Decatur, GA   \n",
              "2  Albertus Magnus College     New Haven, CT   \n",
              "3           Albion College        Albion, MI   \n",
              "4  Alcorn State University  Alcorn State, MS   \n",
              "\n",
              "                             acceptance_rate  \\\n",
              "0  \\n                  77%\\n                   \n",
              "1  \\n                  70%\\n                   \n",
              "2  \\n                  82%\\n                   \n",
              "3  \\n                  69%\\n                   \n",
              "4  \\n                  39%\\n                   \n",
              "\n",
              "                            Est_full_price_22_23  \\\n",
              "0  \\n                  $67,400\\n                   \n",
              "1  \\n                  $63,500\\n                   \n",
              "2  \\n                  $62,100\\n                   \n",
              "3  \\n                  $70,200\\n                   \n",
              "4  \\n                  $25,000\\n                   \n",
              "\n",
              "                        Est_price_with_avg_grant  \\\n",
              "0  \\n                  $30,300\\n                   \n",
              "1  \\n                  $14,400\\n                   \n",
              "2  \\n                  $30,800\\n                   \n",
              "3  \\n                  $21,200\\n                   \n",
              "4  \\n                  $15,600\\n                   \n",
              "\n",
              "                             graduation_rate early_career_earnings  \\\n",
              "0  \\n                  74%\\n                               $70,100   \n",
              "1  \\n                  73%\\n                               $49,300   \n",
              "2  \\n                  65%\\n                               $52,300   \n",
              "3  \\n                  70%\\n                               $57,500   \n",
              "4  \\n                  42%\\n                               $34,500   \n",
              "\n",
              "  avg_price_for_low_income_students median_sat_act_score sat_act_required  \\\n",
              "0                           $24,800              1200/26               No   \n",
              "1                           $10,400                   NA               No   \n",
              "2                           $26,300                   NA               No   \n",
              "3                           $15,300              1110/24               No   \n",
              "4                           $12,600               960/22              Yes   \n",
              "\n",
              "  undergrad_enrollment percent_of_students_with_need_who_get_grants  \\\n",
              "0                5,170                                          98%   \n",
              "1                1,010                                         100%   \n",
              "2                1,020                                          69%   \n",
              "3                1,510                                         100%   \n",
              "4                2,480                                          92%   \n",
              "\n",
              "  percent_of_need_met percent_of_students_who_get_merit_grants  \\\n",
              "0                 62%                                      22%   \n",
              "1                 85%                                      25%   \n",
              "2                 46%                                       4%   \n",
              "3                 91%                                      16%   \n",
              "4                 20%                                      33%   \n",
              "\n",
              "  avg_merit_grant avg_time_to_a_degree median_student_debt  \\\n",
              "0         $20,530            4.2 years             $25,000   \n",
              "1         $31,390            4.1 years             $26,750   \n",
              "2         $21,060            4.3 years             $30,960   \n",
              "3         $37,120            4.2 years             $27,000   \n",
              "4          $8,210            4.3 years             $27,000   \n",
              "\n",
              "  percent_earning_more_than_a_high_school_grad  \n",
              "0                                          80%  \n",
              "1                                          60%  \n",
              "2                                          59%  \n",
              "3                                          74%  \n",
              "4                                          40%  "
            ],
            "text/html": [
              "\n",
              "  <div id=\"df-c72b976c-c524-4351-b4c0-5c924f220c0d\" class=\"colab-df-container\">\n",
              "    <div>\n",
              "<style scoped>\n",
              "    .dataframe tbody tr th:only-of-type {\n",
              "        vertical-align: middle;\n",
              "    }\n",
              "\n",
              "    .dataframe tbody tr th {\n",
              "        vertical-align: top;\n",
              "    }\n",
              "\n",
              "    .dataframe thead th {\n",
              "        text-align: right;\n",
              "    }\n",
              "</style>\n",
              "<table border=\"1\" class=\"dataframe\">\n",
              "  <thead>\n",
              "    <tr style=\"text-align: right;\">\n",
              "      <th></th>\n",
              "      <th>college_names</th>\n",
              "      <th>college_location</th>\n",
              "      <th>acceptance_rate</th>\n",
              "      <th>Est_full_price_22_23</th>\n",
              "      <th>Est_price_with_avg_grant</th>\n",
              "      <th>graduation_rate</th>\n",
              "      <th>early_career_earnings</th>\n",
              "      <th>avg_price_for_low_income_students</th>\n",
              "      <th>median_sat_act_score</th>\n",
              "      <th>sat_act_required</th>\n",
              "      <th>undergrad_enrollment</th>\n",
              "      <th>percent_of_students_with_need_who_get_grants</th>\n",
              "      <th>percent_of_need_met</th>\n",
              "      <th>percent_of_students_who_get_merit_grants</th>\n",
              "      <th>avg_merit_grant</th>\n",
              "      <th>avg_time_to_a_degree</th>\n",
              "      <th>median_student_debt</th>\n",
              "      <th>percent_earning_more_than_a_high_school_grad</th>\n",
              "    </tr>\n",
              "  </thead>\n",
              "  <tbody>\n",
              "    <tr>\n",
              "      <th>0</th>\n",
              "      <td>Adelphi University</td>\n",
              "      <td>Garden City, NY</td>\n",
              "      <td>\\n                  77%\\n</td>\n",
              "      <td>\\n                  $67,400\\n</td>\n",
              "      <td>\\n                  $30,300\\n</td>\n",
              "      <td>\\n                  74%\\n</td>\n",
              "      <td>$70,100</td>\n",
              "      <td>$24,800</td>\n",
              "      <td>1200/26</td>\n",
              "      <td>No</td>\n",
              "      <td>5,170</td>\n",
              "      <td>98%</td>\n",
              "      <td>62%</td>\n",
              "      <td>22%</td>\n",
              "      <td>$20,530</td>\n",
              "      <td>4.2 years</td>\n",
              "      <td>$25,000</td>\n",
              "      <td>80%</td>\n",
              "    </tr>\n",
              "    <tr>\n",
              "      <th>1</th>\n",
              "      <td>Agnes Scott College</td>\n",
              "      <td>Decatur, GA</td>\n",
              "      <td>\\n                  70%\\n</td>\n",
              "      <td>\\n                  $63,500\\n</td>\n",
              "      <td>\\n                  $14,400\\n</td>\n",
              "      <td>\\n                  73%\\n</td>\n",
              "      <td>$49,300</td>\n",
              "      <td>$10,400</td>\n",
              "      <td>NA</td>\n",
              "      <td>No</td>\n",
              "      <td>1,010</td>\n",
              "      <td>100%</td>\n",
              "      <td>85%</td>\n",
              "      <td>25%</td>\n",
              "      <td>$31,390</td>\n",
              "      <td>4.1 years</td>\n",
              "      <td>$26,750</td>\n",
              "      <td>60%</td>\n",
              "    </tr>\n",
              "    <tr>\n",
              "      <th>2</th>\n",
              "      <td>Albertus Magnus College</td>\n",
              "      <td>New Haven, CT</td>\n",
              "      <td>\\n                  82%\\n</td>\n",
              "      <td>\\n                  $62,100\\n</td>\n",
              "      <td>\\n                  $30,800\\n</td>\n",
              "      <td>\\n                  65%\\n</td>\n",
              "      <td>$52,300</td>\n",
              "      <td>$26,300</td>\n",
              "      <td>NA</td>\n",
              "      <td>No</td>\n",
              "      <td>1,020</td>\n",
              "      <td>69%</td>\n",
              "      <td>46%</td>\n",
              "      <td>4%</td>\n",
              "      <td>$21,060</td>\n",
              "      <td>4.3 years</td>\n",
              "      <td>$30,960</td>\n",
              "      <td>59%</td>\n",
              "    </tr>\n",
              "    <tr>\n",
              "      <th>3</th>\n",
              "      <td>Albion College</td>\n",
              "      <td>Albion, MI</td>\n",
              "      <td>\\n                  69%\\n</td>\n",
              "      <td>\\n                  $70,200\\n</td>\n",
              "      <td>\\n                  $21,200\\n</td>\n",
              "      <td>\\n                  70%\\n</td>\n",
              "      <td>$57,500</td>\n",
              "      <td>$15,300</td>\n",
              "      <td>1110/24</td>\n",
              "      <td>No</td>\n",
              "      <td>1,510</td>\n",
              "      <td>100%</td>\n",
              "      <td>91%</td>\n",
              "      <td>16%</td>\n",
              "      <td>$37,120</td>\n",
              "      <td>4.2 years</td>\n",
              "      <td>$27,000</td>\n",
              "      <td>74%</td>\n",
              "    </tr>\n",
              "    <tr>\n",
              "      <th>4</th>\n",
              "      <td>Alcorn State University</td>\n",
              "      <td>Alcorn State, MS</td>\n",
              "      <td>\\n                  39%\\n</td>\n",
              "      <td>\\n                  $25,000\\n</td>\n",
              "      <td>\\n                  $15,600\\n</td>\n",
              "      <td>\\n                  42%\\n</td>\n",
              "      <td>$34,500</td>\n",
              "      <td>$12,600</td>\n",
              "      <td>960/22</td>\n",
              "      <td>Yes</td>\n",
              "      <td>2,480</td>\n",
              "      <td>92%</td>\n",
              "      <td>20%</td>\n",
              "      <td>33%</td>\n",
              "      <td>$8,210</td>\n",
              "      <td>4.3 years</td>\n",
              "      <td>$27,000</td>\n",
              "      <td>40%</td>\n",
              "    </tr>\n",
              "  </tbody>\n",
              "</table>\n",
              "</div>\n",
              "    <div class=\"colab-df-buttons\">\n",
              "\n",
              "  <div class=\"colab-df-container\">\n",
              "    <button class=\"colab-df-convert\" onclick=\"convertToInteractive('df-c72b976c-c524-4351-b4c0-5c924f220c0d')\"\n",
              "            title=\"Convert this dataframe to an interactive table.\"\n",
              "            style=\"display:none;\">\n",
              "\n",
              "  <svg xmlns=\"http://www.w3.org/2000/svg\" height=\"24px\" viewBox=\"0 -960 960 960\">\n",
              "    <path d=\"M120-120v-720h720v720H120Zm60-500h600v-160H180v160Zm220 220h160v-160H400v160Zm0 220h160v-160H400v160ZM180-400h160v-160H180v160Zm440 0h160v-160H620v160ZM180-180h160v-160H180v160Zm440 0h160v-160H620v160Z\"/>\n",
              "  </svg>\n",
              "    </button>\n",
              "\n",
              "  <style>\n",
              "    .colab-df-container {\n",
              "      display:flex;\n",
              "      gap: 12px;\n",
              "    }\n",
              "\n",
              "    .colab-df-convert {\n",
              "      background-color: #E8F0FE;\n",
              "      border: none;\n",
              "      border-radius: 50%;\n",
              "      cursor: pointer;\n",
              "      display: none;\n",
              "      fill: #1967D2;\n",
              "      height: 32px;\n",
              "      padding: 0 0 0 0;\n",
              "      width: 32px;\n",
              "    }\n",
              "\n",
              "    .colab-df-convert:hover {\n",
              "      background-color: #E2EBFA;\n",
              "      box-shadow: 0px 1px 2px rgba(60, 64, 67, 0.3), 0px 1px 3px 1px rgba(60, 64, 67, 0.15);\n",
              "      fill: #174EA6;\n",
              "    }\n",
              "\n",
              "    .colab-df-buttons div {\n",
              "      margin-bottom: 4px;\n",
              "    }\n",
              "\n",
              "    [theme=dark] .colab-df-convert {\n",
              "      background-color: #3B4455;\n",
              "      fill: #D2E3FC;\n",
              "    }\n",
              "\n",
              "    [theme=dark] .colab-df-convert:hover {\n",
              "      background-color: #434B5C;\n",
              "      box-shadow: 0px 1px 3px 1px rgba(0, 0, 0, 0.15);\n",
              "      filter: drop-shadow(0px 1px 2px rgba(0, 0, 0, 0.3));\n",
              "      fill: #FFFFFF;\n",
              "    }\n",
              "  </style>\n",
              "\n",
              "    <script>\n",
              "      const buttonEl =\n",
              "        document.querySelector('#df-c72b976c-c524-4351-b4c0-5c924f220c0d button.colab-df-convert');\n",
              "      buttonEl.style.display =\n",
              "        google.colab.kernel.accessAllowed ? 'block' : 'none';\n",
              "\n",
              "      async function convertToInteractive(key) {\n",
              "        const element = document.querySelector('#df-c72b976c-c524-4351-b4c0-5c924f220c0d');\n",
              "        const dataTable =\n",
              "          await google.colab.kernel.invokeFunction('convertToInteractive',\n",
              "                                                    [key], {});\n",
              "        if (!dataTable) return;\n",
              "\n",
              "        const docLinkHtml = 'Like what you see? Visit the ' +\n",
              "          '<a target=\"_blank\" href=https://colab.research.google.com/notebooks/data_table.ipynb>data table notebook</a>'\n",
              "          + ' to learn more about interactive tables.';\n",
              "        element.innerHTML = '';\n",
              "        dataTable['output_type'] = 'display_data';\n",
              "        await google.colab.output.renderOutput(dataTable, element);\n",
              "        const docLink = document.createElement('div');\n",
              "        docLink.innerHTML = docLinkHtml;\n",
              "        element.appendChild(docLink);\n",
              "      }\n",
              "    </script>\n",
              "  </div>\n",
              "\n",
              "\n",
              "<div id=\"df-ba8c91c0-2f86-46ca-8d64-5ff7c4cdd226\">\n",
              "  <button class=\"colab-df-quickchart\" onclick=\"quickchart('df-ba8c91c0-2f86-46ca-8d64-5ff7c4cdd226')\"\n",
              "            title=\"Suggest charts.\"\n",
              "            style=\"display:none;\">\n",
              "\n",
              "<svg xmlns=\"http://www.w3.org/2000/svg\" height=\"24px\"viewBox=\"0 0 24 24\"\n",
              "     width=\"24px\">\n",
              "    <g>\n",
              "        <path d=\"M19 3H5c-1.1 0-2 .9-2 2v14c0 1.1.9 2 2 2h14c1.1 0 2-.9 2-2V5c0-1.1-.9-2-2-2zM9 17H7v-7h2v7zm4 0h-2V7h2v10zm4 0h-2v-4h2v4z\"/>\n",
              "    </g>\n",
              "</svg>\n",
              "  </button>\n",
              "\n",
              "<style>\n",
              "  .colab-df-quickchart {\n",
              "      --bg-color: #E8F0FE;\n",
              "      --fill-color: #1967D2;\n",
              "      --hover-bg-color: #E2EBFA;\n",
              "      --hover-fill-color: #174EA6;\n",
              "      --disabled-fill-color: #AAA;\n",
              "      --disabled-bg-color: #DDD;\n",
              "  }\n",
              "\n",
              "  [theme=dark] .colab-df-quickchart {\n",
              "      --bg-color: #3B4455;\n",
              "      --fill-color: #D2E3FC;\n",
              "      --hover-bg-color: #434B5C;\n",
              "      --hover-fill-color: #FFFFFF;\n",
              "      --disabled-bg-color: #3B4455;\n",
              "      --disabled-fill-color: #666;\n",
              "  }\n",
              "\n",
              "  .colab-df-quickchart {\n",
              "    background-color: var(--bg-color);\n",
              "    border: none;\n",
              "    border-radius: 50%;\n",
              "    cursor: pointer;\n",
              "    display: none;\n",
              "    fill: var(--fill-color);\n",
              "    height: 32px;\n",
              "    padding: 0;\n",
              "    width: 32px;\n",
              "  }\n",
              "\n",
              "  .colab-df-quickchart:hover {\n",
              "    background-color: var(--hover-bg-color);\n",
              "    box-shadow: 0 1px 2px rgba(60, 64, 67, 0.3), 0 1px 3px 1px rgba(60, 64, 67, 0.15);\n",
              "    fill: var(--button-hover-fill-color);\n",
              "  }\n",
              "\n",
              "  .colab-df-quickchart-complete:disabled,\n",
              "  .colab-df-quickchart-complete:disabled:hover {\n",
              "    background-color: var(--disabled-bg-color);\n",
              "    fill: var(--disabled-fill-color);\n",
              "    box-shadow: none;\n",
              "  }\n",
              "\n",
              "  .colab-df-spinner {\n",
              "    border: 2px solid var(--fill-color);\n",
              "    border-color: transparent;\n",
              "    border-bottom-color: var(--fill-color);\n",
              "    animation:\n",
              "      spin 1s steps(1) infinite;\n",
              "  }\n",
              "\n",
              "  @keyframes spin {\n",
              "    0% {\n",
              "      border-color: transparent;\n",
              "      border-bottom-color: var(--fill-color);\n",
              "      border-left-color: var(--fill-color);\n",
              "    }\n",
              "    20% {\n",
              "      border-color: transparent;\n",
              "      border-left-color: var(--fill-color);\n",
              "      border-top-color: var(--fill-color);\n",
              "    }\n",
              "    30% {\n",
              "      border-color: transparent;\n",
              "      border-left-color: var(--fill-color);\n",
              "      border-top-color: var(--fill-color);\n",
              "      border-right-color: var(--fill-color);\n",
              "    }\n",
              "    40% {\n",
              "      border-color: transparent;\n",
              "      border-right-color: var(--fill-color);\n",
              "      border-top-color: var(--fill-color);\n",
              "    }\n",
              "    60% {\n",
              "      border-color: transparent;\n",
              "      border-right-color: var(--fill-color);\n",
              "    }\n",
              "    80% {\n",
              "      border-color: transparent;\n",
              "      border-right-color: var(--fill-color);\n",
              "      border-bottom-color: var(--fill-color);\n",
              "    }\n",
              "    90% {\n",
              "      border-color: transparent;\n",
              "      border-bottom-color: var(--fill-color);\n",
              "    }\n",
              "  }\n",
              "</style>\n",
              "\n",
              "  <script>\n",
              "    async function quickchart(key) {\n",
              "      const quickchartButtonEl =\n",
              "        document.querySelector('#' + key + ' button');\n",
              "      quickchartButtonEl.disabled = true;  // To prevent multiple clicks.\n",
              "      quickchartButtonEl.classList.add('colab-df-spinner');\n",
              "      try {\n",
              "        const charts = await google.colab.kernel.invokeFunction(\n",
              "            'suggestCharts', [key], {});\n",
              "      } catch (error) {\n",
              "        console.error('Error during call to suggestCharts:', error);\n",
              "      }\n",
              "      quickchartButtonEl.classList.remove('colab-df-spinner');\n",
              "      quickchartButtonEl.classList.add('colab-df-quickchart-complete');\n",
              "    }\n",
              "    (() => {\n",
              "      let quickchartButtonEl =\n",
              "        document.querySelector('#df-ba8c91c0-2f86-46ca-8d64-5ff7c4cdd226 button');\n",
              "      quickchartButtonEl.style.display =\n",
              "        google.colab.kernel.accessAllowed ? 'block' : 'none';\n",
              "    })();\n",
              "  </script>\n",
              "</div>\n",
              "    </div>\n",
              "  </div>\n"
            ]
          },
          "metadata": {},
          "execution_count": 15
        }
      ],
      "source": [
        "college_df.head()"
      ]
    },
    {
      "cell_type": "code",
      "source": [
        "college_df.to_csv(\"total_college_data.csv\")"
      ],
      "metadata": {
        "id": "UeNsDIPC7aso"
      },
      "execution_count": 16,
      "outputs": []
    },
    {
      "cell_type": "code",
      "source": [],
      "metadata": {
        "id": "t5-cVGVW7g0c"
      },
      "execution_count": 16,
      "outputs": []
    }
  ],
  "metadata": {
    "colab": {
      "provenance": []
    },
    "kernelspec": {
      "display_name": "Python 3",
      "language": "python",
      "name": "python3"
    },
    "language_info": {
      "codemirror_mode": {
        "name": "ipython",
        "version": 3
      },
      "file_extension": ".py",
      "mimetype": "text/x-python",
      "name": "python",
      "nbconvert_exporter": "python",
      "pygments_lexer": "ipython3",
      "version": "3.8.2"
    }
  },
  "nbformat": 4,
  "nbformat_minor": 0
}